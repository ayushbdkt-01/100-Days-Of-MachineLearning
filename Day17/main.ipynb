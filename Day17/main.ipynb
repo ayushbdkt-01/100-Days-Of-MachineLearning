{
 "cells": [
  {
   "cell_type": "code",
   "execution_count": 1,
   "metadata": {},
   "outputs": [],
   "source": [
    "# FETCHING DATA FROM API \n",
    "# API = application programming interface\n",
    "# API connects 2 softwares ( data pipelines)\n",
    "# API transfers data from one place to another"
   ]
  },
  {
   "cell_type": "code",
   "execution_count": 11,
   "metadata": {},
   "outputs": [],
   "source": [
    "import requests\n",
    "import pandas as pd\n",
    "\n",
    "# Your API key from TMDb\n",
    "api_key = \"6a73b34dd0580db903e8c0dc4586c9af\"  # Replace with your TMDb API key\n",
    "\n",
    "# URL with the API key included as a query parameter\n",
    "url = f\"https://api.themoviedb.org/3/movie/changes?page=1&api_key={api_key}\"\n",
    "\n",
    "# Headers for the request\n",
    "headers = {\"accept\": \"application/json\"}\n",
    "\n",
    "# Make the GET request\n",
    "response = requests.get(url, headers=headers)\n",
    "\n",
    "# Converting the response to DataF\n",
    "df=pd.DataFrame(response.json()['results'])\n",
    "df\n",
    "\n",
    "# converting the DataFrame to CSV file\n",
    "df.to_csv(\"myCreatedDataset\")\n"
   ]
  },
  {
   "cell_type": "code",
   "execution_count": null,
   "metadata": {},
   "outputs": [],
   "source": []
  }
 ],
 "metadata": {
  "kernelspec": {
   "display_name": "Python 3",
   "language": "python",
   "name": "python3"
  },
  "language_info": {
   "codemirror_mode": {
    "name": "ipython",
    "version": 3
   },
   "file_extension": ".py",
   "mimetype": "text/x-python",
   "name": "python",
   "nbconvert_exporter": "python",
   "pygments_lexer": "ipython3",
   "version": "3.12.2"
  }
 },
 "nbformat": 4,
 "nbformat_minor": 2
}

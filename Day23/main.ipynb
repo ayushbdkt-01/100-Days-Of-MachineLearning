{
 "cells": [
  {
   "cell_type": "code",
   "execution_count": null,
   "metadata": {},
   "outputs": [],
   "source": [
    "# FEATURE ENGINEERING\n",
    "# this includes extracting raw features from the dataset\n",
    "# these features helps to improve the performance of the ML model"
   ]
  },
  {
   "cell_type": "code",
   "execution_count": 1,
   "metadata": {},
   "outputs": [],
   "source": [
    "# Data Retrieval (DataSets)\n",
    "# Data Preprocesing (Preprocessing, FeatureEngg, FeatureScaling)\n",
    "# Modelling (ML Algorithm)\n",
    "# Model Evaluation and training\n",
    "# Deployment and Monitoring"
   ]
  },
  {
   "cell_type": "code",
   "execution_count": 2,
   "metadata": {},
   "outputs": [],
   "source": [
    "# TYPES OF FEATURE ENGG.\n",
    "\n",
    "# feature transformation = missingvalues, categoricalColumns, OutliersDetection, FeatureScaling\n",
    "\n",
    "# Feature construction = making columns by own\n",
    "\n",
    "# Feature selection = selecting useful features (columns)\n",
    "\n",
    "# Feature Extraction = finding new features from existing features"
   ]
  },
  {
   "cell_type": "code",
   "execution_count": 3,
   "metadata": {},
   "outputs": [],
   "source": [
    "# FEATURE TRANSFORMATION\n",
    "\n",
    "# handling missing values\n",
    "# remove the values\n",
    "# fill the null values with mean or any other value\n",
    "\n",
    "# handling categorical values\n",
    "# converting categories to numerical values\n",
    "# converting numerical to categorical values\n",
    "\n",
    "# handling outlines\n",
    "# detecting outliers\n",
    "# remove outliers using different methods\n",
    "\n",
    "# feature scaling \n",
    "# fitting data in a given range (-1 to 1)"
   ]
  },
  {
   "cell_type": "code",
   "execution_count": 4,
   "metadata": {},
   "outputs": [],
   "source": [
    "# FEATURE CONSTRUCTION\n",
    "\n",
    "# creating a completely new column \n",
    "\n",
    "# combining 2 columns to make a new important column"
   ]
  },
  {
   "cell_type": "code",
   "execution_count": 5,
   "metadata": {},
   "outputs": [],
   "source": [
    "# FEATURE SELECTION\n",
    "\n",
    "# selecting important and ignoring other columns (features)"
   ]
  },
  {
   "cell_type": "code",
   "execution_count": null,
   "metadata": {},
   "outputs": [],
   "source": [
    "# FEATURE EXTRACTION \n",
    "\n",
    "# finding new features from existing features"
   ]
  }
 ],
 "metadata": {
  "kernelspec": {
   "display_name": "Python 3",
   "language": "python",
   "name": "python3"
  },
  "language_info": {
   "codemirror_mode": {
    "name": "ipython",
    "version": 3
   },
   "file_extension": ".py",
   "mimetype": "text/x-python",
   "name": "python",
   "nbconvert_exporter": "python",
   "pygments_lexer": "ipython3",
   "version": "3.12.2"
  }
 },
 "nbformat": 4,
 "nbformat_minor": 2
}
